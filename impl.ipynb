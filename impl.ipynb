{
 "cells": [
  {
   "cell_type": "code",
   "execution_count": 1,
   "metadata": {},
   "outputs": [],
   "source": [
    "import numpy as np\n",
    "import copy\n",
    "from sklearn.datasets import make_classification, make_moons, make_blobs\n",
    "from IPython.display import display, Math"
   ]
  },
  {
   "cell_type": "code",
   "execution_count": 2,
   "metadata": {},
   "outputs": [],
   "source": [
    "from torch.utils.data import DataLoader\n",
    "import torch\n",
    "from torch import nn"
   ]
  },
  {
   "cell_type": "code",
   "execution_count": 3,
   "metadata": {},
   "outputs": [],
   "source": [
    "class TrainData:\n",
    "    def __init__(self, X, y):\n",
    "        self.X = X\n",
    "        self.y = y\n",
    "        \n",
    "    def __getitem__(self, i):\n",
    "        return self.X[i], self.y[i]\n",
    "    \n",
    "    def __len__(self):\n",
    "        return len(self.y)"
   ]
  },
  {
   "cell_type": "code",
   "execution_count": 4,
   "metadata": {},
   "outputs": [],
   "source": [
    "def generate_dataset(moons=False, dots=1000):\n",
    "    if moons:\n",
    "        X, y = make_moons(dots, noise=0.075, random_state=420)\n",
    "    else:\n",
    "        X, y = make_blobs(dots, 2, centers=[[0, 0], [-4, 2], [3.5, -2.0], [3.5, 3.5]], random_state=420)\n",
    "        y = y % 2\n",
    "    s = np.zeros(dots)\n",
    "    s[np.random.choice(np.arange(len(y))[y == 1], int(0.2 * dots), replace=False)] = 1\n",
    "    return X, y, s"
   ]
  },
  {
   "cell_type": "code",
   "execution_count": 5,
   "metadata": {},
   "outputs": [],
   "source": [
    "def trainValidateSplit(X, s, ratio=0.8):\n",
    "    l = round(ratio*len(X))\n",
    "    return X[:l], s[:l], X[l:], s[l:]"
   ]
  },
  {
   "cell_type": "code",
   "execution_count": 6,
   "metadata": {},
   "outputs": [],
   "source": [
    "X, y, s = generate_dataset(True, 2000)"
   ]
  },
  {
   "cell_type": "markdown",
   "metadata": {},
   "source": [
    "Classifier предсказывает $p(s=1|x)$."
   ]
  },
  {
   "cell_type": "code",
   "execution_count": 7,
   "metadata": {},
   "outputs": [],
   "source": [
    "class Classifier(nn.Module):\n",
    "    def __init__(self, \n",
    "                 input_dim=2, \n",
    "                 output_dim=1, \n",
    "                 hd=256):\n",
    "        super().__init__()\n",
    "        self.model = nn.Sequential(nn.Linear(input_dim, hd), \n",
    "                                    nn.ReLU(), \n",
    "                                    nn.Linear(hd, hd), \n",
    "                                    nn.ReLU(),\n",
    "                                    nn.Linear(hd, output_dim), \n",
    "                                    nn.Sigmoid())\n",
    "        \n",
    "    def forward(self, x):\n",
    "        return self.model(x)\n",
    "\n",
    "    def est_c(self, mode=0):\n",
    "        \"\"\"\n",
    "            Находит c по одному из приближений\n",
    "        \"\"\"\n",
    "        if mode == 0:\n",
    "            self.c = self(self.x_val[self.s_val==1]).mean().data\n",
    "        elif mode == 1:\n",
    "            self.c = self(self.x_val[self.s_val==1]).sum().data / self(self.x_val).sum().data\n",
    "        elif mode == 2:\n",
    "            self.c = self(self.x_val).max().data\n",
    "        else:\n",
    "            raise ValueError(f\"unsupported mode={mode}\")\n",
    "    \n",
    "    def train(self, x, s, epochs=69, mode=0):\n",
    "        X_train, s_train, X_val, s_val = trainValidateSplit(x, s)\n",
    "        self.x = torch.FloatTensor(X_train)\n",
    "        self.s = torch.FloatTensor(s_train)\n",
    "        self.x_val = torch.FloatTensor(X_val)\n",
    "        self.s_val = torch.FloatTensor(s_val)\n",
    "        \n",
    "        train_loader = DataLoader(TrainData(X_train, s_train), batch_size=50, shuffle=True)\n",
    "        opt = torch.optim.Adam(self.parameters(), lr=1e-4)\n",
    "        loss_func = nn.BCELoss()\n",
    "        \n",
    "        for i in range(epochs):\n",
    "            for Xi, si in iter(train_loader):\n",
    "                s_pred = self(Xi.float())\n",
    "                loss = loss_func(s_pred, si.unsqueeze(1))\n",
    "                opt.zero_grad()\n",
    "                loss.backward()\n",
    "                opt.step()\n",
    "        self.est_c()\n",
    "        \n",
    "        \n",
    "    def est_h(self, h):\n",
    "        \"\"\"\n",
    "            Находит приближение E(h(x, y))\n",
    "        \"\"\"\n",
    "        x1 = self.x[self.s == 1]\n",
    "        x2 = self.x[self.s != 1]\n",
    "        w = self.w(x2)\n",
    "        res = h(x1, torch.ones(len(x1))).sum()\n",
    "        res += (w * h(x2, torch.ones(len(x2)))).sum()\n",
    "        res += ((1-w) * h(x2, torch.zeros(len(x2)))).sum()\n",
    "        res /= len(self.x)\n",
    "        return res.data.item()\n",
    "\n",
    "    def w(self, x):\n",
    "        g_x = self(x).squeeze()\n",
    "        return (1-self.c) * g_x / self.c / (1 - g_x)\n",
    "\n",
    "    def predict(self, x):\n",
    "        res = torch.zeros(len(x))\n",
    "        x = torch.FloatTensor(x)\n",
    "        probs = self(x).squeeze().detach() / self.c\n",
    "        res[probs > 0.5] = 1\n",
    "        return res.numpy()"
   ]
  },
  {
   "cell_type": "markdown",
   "metadata": {},
   "source": [
    "Протестируем, получившийся класификатор. Найдем recall, precision, accuracy для всех вариантов приближения c, а также оценку на $E(h)$, где $h(x, y)=y$ (истинное значение $0.5$)."
   ]
  },
  {
   "cell_type": "code",
   "execution_count": 8,
   "metadata": {},
   "outputs": [],
   "source": [
    "def h(x, y):\n",
    "    return y"
   ]
  },
  {
   "cell_type": "code",
   "execution_count": 9,
   "metadata": {},
   "outputs": [],
   "source": [
    "def test():\n",
    "    clas = Classifier(hd=228)\n",
    "    clas.train(X, s)\n",
    "    X_test, y_test, _ = generate_dataset(True, 500)\n",
    "    cs = [r'Приближение:\\quad c\\sim\\frac 1n \\sum\\limits_{x\\in P} g(x)', \n",
    "          r'Приближение:\\quad c\\sim \\sum\\limits_{x\\in P} g(x) / \\sum\\limits_{x\\in V} g(x)', \n",
    "          r'Приближение:\\quad c\\sim \\max_{x\\in V} g(x)']\n",
    "    \n",
    "    for i, c in enumerate(cs):\n",
    "        clas.est_c(i)\n",
    "        y_pred = clas.predict(X_test)\n",
    "        TP = y_pred[y_test==1].sum()\n",
    "        TN = (1-y_pred)[y_test==1].sum()\n",
    "        FP = y_pred[y_test==0].sum()\n",
    "        FN = (1-y_pred)[y_test==0].sum()\n",
    "        recall = TP / (TP + TN)\n",
    "        precision = TP / (TP + FP)\n",
    "        accuracy = (TP + FN) / len(y_test)\n",
    "        display(Math(c))\n",
    "        print(\"recall = {}\\nprecision = {}\\naccuracy = {}\\nE(h)={}\".format(recall, precision, accuracy, clas.est_h(h)))"
   ]
  },
  {
   "cell_type": "code",
   "execution_count": 10,
   "metadata": {},
   "outputs": [
    {
     "data": {
      "text/latex": [
       "$\\displaystyle Приближение:\\quad c\\sim\\frac 1n \\sum\\limits_{x\\in P} g(x)$"
      ],
      "text/plain": [
       "<IPython.core.display.Math object>"
      ]
     },
     "metadata": {},
     "output_type": "display_data"
    },
    {
     "name": "stdout",
     "output_type": "stream",
     "text": [
      "recall = 0.9919999837875366\n",
      "precision = 0.9959839582443237\n",
      "accuracy = 0.994\n",
      "E(h)=0.5279846787452698\n"
     ]
    },
    {
     "data": {
      "text/latex": [
       "$\\displaystyle Приближение:\\quad c\\sim \\sum\\limits_{x\\in P} g(x) / \\sum\\limits_{x\\in V} g(x)$"
      ],
      "text/plain": [
       "<IPython.core.display.Math object>"
      ]
     },
     "metadata": {},
     "output_type": "display_data"
    },
    {
     "name": "stdout",
     "output_type": "stream",
     "text": [
      "recall = 0.9919999837875366\n",
      "precision = 0.9959839582443237\n",
      "accuracy = 0.994\n",
      "E(h)=0.5190211534500122\n"
     ]
    },
    {
     "data": {
      "text/latex": [
       "$\\displaystyle Приближение:\\quad c\\sim \\max_{x\\in V} g(x)$"
      ],
      "text/plain": [
       "<IPython.core.display.Math object>"
      ]
     },
     "metadata": {},
     "output_type": "display_data"
    },
    {
     "name": "stdout",
     "output_type": "stream",
     "text": [
      "recall = 0.9599999785423279\n",
      "precision = 1.0\n",
      "accuracy = 0.98\n",
      "E(h)=0.4003617465496063\n"
     ]
    }
   ],
   "source": [
    "test()"
   ]
  },
  {
   "cell_type": "code",
   "execution_count": null,
   "metadata": {},
   "outputs": [],
   "source": []
  }
 ],
 "metadata": {
  "kernelspec": {
   "display_name": "Python 3",
   "language": "python",
   "name": "python3"
  },
  "language_info": {
   "codemirror_mode": {
    "name": "ipython",
    "version": 3
   },
   "file_extension": ".py",
   "mimetype": "text/x-python",
   "name": "python",
   "nbconvert_exporter": "python",
   "pygments_lexer": "ipython3",
   "version": "3.7.3"
  }
 },
 "nbformat": 4,
 "nbformat_minor": 2
}
